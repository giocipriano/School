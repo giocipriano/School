{
 "cells": [
  {
   "cell_type": "markdown",
   "metadata": {},
   "source": [
    "# Problem Set 1 CS174\n",
    "---\n",
    "The following problem set will focus on the lessons on Python and basic string manipulation. Answer the following guide questions by writing functions or code in cells that accomplish the requirements.\n",
    "\n",
    "1. Write a function to check whether a string is a palindrome. (A palindrome is a string that reads the same forwards and backwards) **1 pt.**\n",
    "\n",
    "2. Write a function that checks whether a number is prime or not **1 pt.**\n",
    "\n",
    "3. Load `data/allstar.txt` and create a dictionary where the keys are the verses or chorus numbers, and the values are the chords for that part of the song. **4 pts.**\n",
    "`{ \"verse1\": \"Am, C, D, G, F, G, G, Bm\", \"chorus1\": \"C, Am, G, D, C, Am, G, D, C\"..}`\n",
    "\n",
    "4. Build a dictionary from `data/allstar.txt` where the keys are the unique words, and the values are the number of times the word appeared in the song. **4 pts.**\n",
    "\n",
    "5. Load `Rick Astley - Never Gonna Give You Up Lyrics _ AZLyrics.com.html` and find out the ff (show the code): **10 pts.**\n",
    "       - How many unique words are there?\n",
    "       - List what will Rick Astley never do?\n",
    "       - Write a function that lists all the unique words and counts the num of occurences. Output the result as a dictionary similar to **Item 4.**\n",
    "       - Use the dictionary from above to create a word count histogram.\n",
    "       \n",
    "### Bonus:\n",
    "Compare any non-English song (as long as lyrics are Romanized ) and a contemporary one in English, and create word frequency histograms of both. Compare and discuss any interesting findings or insights. **5 pts.**"
   ]
  },
  {
   "cell_type": "markdown",
   "metadata": {},
   "source": [
    "Deadline **Feb 4 11:59PM**. Submission link to be posted in Moodle. \n",
    "Submit the .ipynb file only with name <SURNAME>_<ID NUMBER>.ipynb. \n",
    "    \n",
    "Sample: **\"BAUTISTA_110464.ipynb\"**"
   ]
  },
  {
   "cell_type": "markdown",
   "metadata": {},
   "source": [
    "1. Function to check if a string is a palindrome "
   ]
  },
  {
   "cell_type": "code",
   "execution_count": 11,
   "metadata": {},
   "outputs": [
    {
     "name": "stdout",
     "output_type": "stream",
     "text": [
      "Is a Palindrome\n"
     ]
    }
   ],
   "source": [
    "def pali(word):\n",
    "    return word == word[::-1]\n",
    "\n",
    "word = \"palindromemordnilap\" #input word here \n",
    "result = pali(word.lower())\n",
    "\n",
    "if result:\n",
    "    print(\"Is a Palindrome\")\n",
    "else: \n",
    "    print(\"Not a Palindrome\")"
   ]
  },
  {
   "cell_type": "markdown",
   "metadata": {},
   "source": [
    "2. Function to check if a number is prime "
   ]
  },
  {
   "cell_type": "code",
   "execution_count": 33,
   "metadata": {},
   "outputs": [
    {
     "name": "stdout",
     "output_type": "stream",
     "text": [
      "Not Prime\n"
     ]
    }
   ],
   "source": [
    "def prime_check(num): \n",
    "    if num > 1:\n",
    "        for i in range(2, num):\n",
    "            if (num % i) == 0:\n",
    "                print(\"Not Prime\")\n",
    "                break\n",
    "        else: \n",
    "            print(\"Is Prime\")\n",
    "    else: \n",
    "        print(\"Is Not Prime\")\n",
    "        \n",
    "#replace num with number to be checked\n",
    "num = 9\n",
    "prime_check(num)"
   ]
  },
  {
   "cell_type": "markdown",
   "metadata": {},
   "source": [
    "3. Dictionary where the keys are verses or chorus numbers and values are chords"
   ]
  },
  {
   "cell_type": "code",
   "execution_count": 37,
   "metadata": {},
   "outputs": [
    {
     "name": "stdout",
     "output_type": "stream",
     "text": [
      "[Verse 1]\n",
      "    G           D           Am             C\n",
      "Somebody once told me the world is gonna roll me\n",
      "    G                  D           Am   C\n",
      "I ain't the sharpest tool in the shed\n",
      "         G              D             Am\n",
      "She was looking kinda dumb with her finger and her\n",
      "C             G           D           Am       C\n",
      "Thumb in the shape of an \"L\" on her forehead\n",
      " \n",
      "  G                                 D\n",
      "Well the years start coming and they don't stop coming\n",
      "Am                       C\n",
      "Back to the rules and I hit the ground running\n",
      "  G                        D\n",
      "Didn't make sense not to live for fun\n",
      "    Am                      C\n",
      "Your brain gets smart but your head gets dumb\n",
      " \n",
      "  G             D\n",
      "So much to do so much to see\n",
      "   Am                            C\n",
      "So what's wrong with taking the back streets\n",
      "   G                       D\n",
      "You'll never know if you don't go\n",
      "   Am                      C\n",
      "You'll never shine if you don't glow\n",
      " \n",
      "[Chorus]\n",
      "G                  C           C#m            C\n",
      "Hey now you're an All Star get your game on, go play\n",
      "G                  C           C#m            C\n",
      "Hey now you're a Rock Star get the show on get paid\n",
      "G             C           C#m\n",
      "And all that glitters is gold\n",
      "C               G     F                C\n",
      "Only shooting stars break the mold\n",
      " \n",
      "[Verse 1]\n",
      "   G                        D\n",
      "It's a cool place and they say it gets colder\n",
      "   Am                 C\n",
      "You're bundled up now but wait 'til you get older\n",
      "    G                    D\n",
      "But the media men beg to differ\n",
      "                 Am                  C\n",
      "Judging by the hole in the satellite picture\n",
      " \n",
      "             G                     D\n",
      "The ice we skate is getting pretty thin\n",
      "                    Am                        C\n",
      "The waters getting warm so you might as well swim\n",
      "               G               D\n",
      "My world's on fire how about yours\n",
      "           Am                             C\n",
      "That's the way I like it and I never get bored\n",
      " \n",
      "[Chorus]\n",
      "G                  C           C#m            C\n",
      "Hey now you're an All Star get your game on, go play\n",
      "G                  C           C#m            C\n",
      "Hey now you're a Rock Star get the show on get paid\n",
      "G             C           C#m\n",
      "And all that glitters is gold\n",
      "C               G     F                C\n",
      "Only shooting stars break the mold\n",
      "G                  C           C#m            C\n",
      "Hey now you're an All Star get your game on, go play\n",
      "G                  C           C#m            C\n",
      "Hey now you're a Rock Star get the show on get paid\n",
      "G             C           C#m\n",
      "And all that glitters is gold\n",
      "C               G     F                C\n",
      "Only shooting stars break the mold\n",
      " \n",
      "[Verse 3]\n",
      "G               D                Am                C\n",
      "Somebody once asked, could you spare some change for gas\n",
      "G                      D              Am    C\n",
      "I need to get myself away from this place\n",
      "G                  D                Am                C\n",
      "I said yep what a concept I could use a little fuel myself\n",
      "        G           D           Am       C\n",
      "And we could all use a little change\n",
      " \n",
      "  G                                 D\n",
      "Well the years start coming and they don't stop coming\n",
      "Am                       C\n",
      "Back to the rules and I hit the ground running\n",
      "  G                        D\n",
      "Didn't make sense not to live for fun\n",
      "    Am                      C\n",
      "Your brain gets smart but your head gets dumb\n",
      " \n",
      "   G             D\n",
      "So much to do so much to see\n",
      "   Am                            C\n",
      "So what's wrong with taking the back streets\n",
      "   G                       D\n",
      "You'll never know if you don't go\n",
      "   Am                      C\n",
      "You'll never shine if you don't glow\n",
      " \n",
      "[Chorus]\n",
      "G                  C           C#m            C\n",
      "Hey now you're an All Star get your game on, go play\n",
      "G                  C           C#m            C\n",
      "Hey now you're a Rock Star get the show on get paid\n",
      "G             C           C#m\n",
      "And all that glitters is gold\n",
      "C               G     F                C\n",
      "Only shooting stars break the mold\n"
     ]
    }
   ],
   "source": [
    "shrek = open('data/allstar.txt').read()\n",
    "print(shrek)"
   ]
  },
  {
   "cell_type": "code",
   "execution_count": 45,
   "metadata": {},
   "outputs": [
    {
     "name": "stdout",
     "output_type": "stream",
     "text": [
      "{'[Verse': '3]', 'G': 'C', 'D': 'C', 'Somebody': 'once', 'once': 'could', 'told': 'world', 'me': 'gonna', 'the': 'I', 'I': 'said', \"ain't\": 'sharpest', 'sharpest': 'shed', 'She': 'was', 'was': 'kinda', 'looking': 'with', 'kinda': 'finger', 'dumb': 'her', 'C': 'G', 'Thumb': 'in', 'in': 'shape', 'shape': 'on', 'of': 'forehead', 'Well': 'the', 'years': 'and', 'start': \"don't\", 'coming': 'coming', 'Am': 'C', 'Back': 'to', 'to': 'much', 'rules': 'the', 'and': 'running', \"Didn't\": 'make', 'make': 'not', 'sense': 'live', 'not': 'fun', 'Your': 'brain', 'brain': 'smart', 'gets': 'your', 'smart': 'gets', 'So': \"what's\", 'much': 'do', 'do': 'see', \"what's\": 'with', 'wrong': 'the', 'with': 'streets', \"You'll\": 'never', 'never': 'if', 'know': \"don't\", 'shine': \"don't\", 'Hey': 'now', 'now': 'a', \"you're\": 'Star', 'an': 'your', 'All': 'on,', 'Star': 'paid', 'a': 'the', 'Rock': 'on', 'And': 'all', 'all': 'glitters', 'that': 'gold', 'Only': 'shooting', 'shooting': 'break', 'stars': 'mold', \"It's\": 'a', 'cool': 'they', 'place': 'it', \"You're\": 'bundled', 'bundled': 'now', 'up': 'wait', 'but': 'older', 'But': 'the', 'media': 'to', 'Judging': 'by', 'by': 'hole', 'hole': 'picture', 'The': 'waters', 'ice': 'skate', 'we': 'all', 'skate': 'thin', 'waters': 'warm', 'getting': 'you', 'warm': 'as', 'so': 'swim', 'My': \"world's\", \"world's\": 'fire', 'on': 'about', \"That's\": 'the', 'way': 'it', 'like': 'get', 'asked,': 'spare', 'could': 'a', 'you': 'gas', 'need': 'get', 'get': 'this', 'said': 'what', 'yep': 'concept', 'what': 'could', 'concept': 'fuel'}\n"
     ]
    }
   ],
   "source": [
    "dict = {}\n",
    "chords = {\"G\", \"D\", \"Am\", \"C\", \"C#m\", \"F\"}\n",
    "with open('data/allstar.txt') as file:\n",
    "    for line in file:\n",
    "        pairs = line.split()\n",
    "        dict.update(zip(pairs[0::1], pairs[1::2]))\n",
    "print(dict)"
   ]
  },
  {
   "cell_type": "markdown",
   "metadata": {},
   "source": [
    "4. Build a dictionary where keys are unique words, and the values are the number of times the word appeared in the song"
   ]
  },
  {
   "cell_type": "code",
   "execution_count": null,
   "metadata": {},
   "outputs": [],
   "source": []
  },
  {
   "cell_type": "markdown",
   "metadata": {},
   "source": [
    "5. Whatever 5 is"
   ]
  },
  {
   "cell_type": "code",
   "execution_count": 69,
   "metadata": {},
   "outputs": [
    {
     "name": "stdout",
     "output_type": "stream",
     "text": [
      "Total Words:  368\n",
      "Unique Words:  78\n",
      "{'shy', 'aching', 'make', 'love', 'going', 'rules', 'the', 'but', 'dont', 'wouldnt', 'me', 'do', 'goodbye', 'whats', 'up', 'no', 'so', 'wanna', 'to', 'im', 'and', 'what', 'feeling', 'on', 'were', 'let', 'cry', 'tell', 'strangers', 'been', 'blind', 'each', 'your', 'give', 'run', 'game', 'never', 'youre', 'around', 'inside', 'this', 'lie', 'gotta', 'guy', 'a', 'known', 'know', 'if', 'understand', 'hearts', 'just', 'of', 'ooh', 'too', 'gonna', 'play', 'see', 'commitments', 'full', 'thinking', 'i', 'get', 'ask', 'say', 'other', 'it', 'hurt', 'weve', 'from', 'desert', 'both', 'for', 'you', 'we', 'down', 'how', 'any', 'long'}\n"
     ]
    }
   ],
   "source": [
    "import matplotlib.pyplot as plt\n",
    "import seaborn as sns\n",
    "import pandas as pd\n",
    "from bs4 import BeautifulSoup\n",
    "from urllib.request import urlopen\n",
    "import string\n",
    "\n",
    "url = \"https://www.azlyrics.com/lyrics/rickastley/nevergonnagiveyouup.html\"\n",
    "html = urlopen(url)\n",
    "soup = BeautifulSoup(html, 'html.parser')\n",
    "data = soup.find_all('div')[20].get_text()\n",
    "cleaned = data.translate(str.maketrans('','', string.punctuation)).lower()\n",
    "\n",
    "num_total = cleaned.split()\n",
    "num_unique = set(num_total)\n",
    "print(\"Total Words: \", len(num_total))\n",
    "print(\"Unique Words: \", len(num_unique))\n",
    "print(num_unique)"
   ]
  },
  {
   "cell_type": "code",
   "execution_count": 70,
   "metadata": {},
   "outputs": [
    {
     "name": "stdout",
     "output_type": "stream",
     "text": [
      "never gonna give you up\n",
      "\n",
      "never gonna let you down\n",
      "\n",
      "never gonna run around and desert you\n",
      "\n",
      "never gonna make you cry\n",
      "\n",
      "never gonna say goodbye\n",
      "\n",
      "never gonna tell a lie and hurt you\n",
      "\n",
      "never gonna give you up\n",
      "\n",
      "never gonna let you down\n",
      "\n",
      "never gonna run around and desert you\n",
      "\n",
      "never gonna make you cry\n",
      "\n",
      "never gonna say goodbye\n",
      "\n",
      "never gonna tell a lie and hurt you\n",
      "\n",
      "never gonna give you up\n",
      "\n",
      "never gonna let you down\n",
      "\n",
      "never gonna run around and desert you\n",
      "\n",
      "never gonna make you cry\n",
      "\n",
      "never gonna say goodbye\n",
      "\n",
      "never gonna tell a lie and hurt you\n",
      "\n",
      "never gonna give never gonna give\n",
      "\n",
      "never gonna give never gonna give\n",
      "\n",
      "never gonna give you up\n",
      "\n",
      "never gonna let you down\n",
      "\n",
      "never gonna run around and desert you\n",
      "\n",
      "never gonna make you cry\n",
      "\n",
      "never gonna say goodbye\n",
      "\n",
      "never gonna tell a lie and hurt you\n",
      "\n",
      "never gonna give you up\n",
      "\n",
      "never gonna let you down\n",
      "\n",
      "never gonna run around and desert you\n",
      "\n",
      "never gonna make you cry\n",
      "\n",
      "never gonna say goodbye\n",
      "\n",
      "never gonna tell a lie and hurt you\n",
      "\n",
      "never gonna give you up\n",
      "\n",
      "never gonna let you down\n",
      "\n",
      "never gonna run around and desert you\n",
      "\n",
      "never gonna make you cry\n",
      "\n",
      "never gonna say goodbye\n",
      "\n",
      "never gonna tell a lie and hurt you\n",
      "\n"
     ]
    }
   ],
   "source": [
    "import io\n",
    "\n",
    "rickroll = io.StringIO(cleaned)\n",
    "\n",
    "with rickroll as file:\n",
    "    for line in rickroll:\n",
    "        if line.startswith('never'):\n",
    "            print(line)"
   ]
  },
  {
   "cell_type": "code",
   "execution_count": 71,
   "metadata": {},
   "outputs": [
    {
     "name": "stdout",
     "output_type": "stream",
     "text": [
      "{'were': 3, 'no': 1, 'strangers': 1, 'to': 4, 'love': 1, 'you': 41, 'know': 5, 'the': 3, 'rules': 1, 'and': 16, 'so': 3, 'do': 1, 'i': 3, 'a': 7, 'full': 1, 'commitments': 1, 'what': 1, 'im': 4, 'thinking': 1, 'of': 1, 'wouldnt': 1, 'get': 1, 'this': 1, 'from': 1, 'any': 1, 'other': 3, 'guy': 1, 'just': 2, 'wanna': 2, 'tell': 9, 'how': 3, 'feeling': 3, 'gotta': 2, 'make': 8, 'understand': 2, 'never': 40, 'gonna': 42, 'give': 14, 'up': 10, 'let': 6, 'down': 6, 'run': 6, 'around': 6, 'desert': 6, 'cry': 6, 'say': 8, 'goodbye': 6, 'lie': 6, 'hurt': 6, 'weve': 2, 'known': 2, 'each': 2, 'for': 2, 'long': 2, 'your': 2, 'hearts': 2, 'been': 4, 'aching': 2, 'but': 2, 'youre': 3, 'too': 3, 'shy': 2, 'it': 4, 'inside': 2, 'we': 4, 'both': 2, 'whats': 2, 'going': 2, 'on': 2, 'game': 2, 'play': 2, 'if': 1, 'ask': 1, 'me': 2, 'dont': 1, 'blind': 1, 'see': 1, 'ooh': 2}\n",
      "78\n"
     ]
    }
   ],
   "source": [
    "dictionary=[]\n",
    "for word in num_total: \n",
    "    if word not in dictionary:\n",
    "        dictionary.append(word)\n",
    "        d[word] = 1\n",
    "    else:\n",
    "        d[word] +=1\n",
    "        \n",
    "dictionary.sort()\n",
    "\n",
    "print (d)\n",
    "print (len(d))\n"
   ]
  },
  {
   "cell_type": "code",
   "execution_count": 100,
   "metadata": {},
   "outputs": [
    {
     "data": {
      "text/plain": [
       "<function matplotlib.pyplot.show(*args, **kw)>"
      ]
     },
     "execution_count": 100,
     "metadata": {},
     "output_type": "execute_result"
    },
    {
     "data": {
      "image/png": "[encoded data removed]",
      "text/plain": [
       "<Figure size 576x1440 with 1 Axes>"
      ]
     },
     "metadata": {},
     "output_type": "display_data"
    }
   ],
   "source": [
    "from collections import Counter\n",
    "\n",
    "uwu = Counter(num_total).items()\n",
    "box = pd.DataFrame(uwu, columns = ['Word', '# of times Mentioned'])\n",
    "boxsort = box.sort_values(by=['# of times Mentioned'])\n",
    "\n",
    "sns.set(style=\"darkgrid\")\n",
    "plt.figure(figsize=(8,20))\n",
    "ax = sns.barplot(y='Word', x='# of times Mentioned', data = boxsort)\n",
    "ax.set(xlabel = '# of times Mentioned', ylabel = 'Words')\n",
    "plt.title(\"Word Count Histogram\")\n",
    "plt.show"
   ]
  },
  {
   "cell_type": "code",
   "execution_count": null,
   "metadata": {},
   "outputs": [],
   "source": []
  }
 ],
 "metadata": {
  "kernelspec": {
   "display_name": "Python 3",
   "language": "python",
   "name": "python3"
  },
  "language_info": {
   "codemirror_mode": {
    "name": "ipython",
    "version": 3
   },
   "file_extension": ".py",
   "mimetype": "text/x-python",
   "name": "python",
   "nbconvert_exporter": "python",
   "pygments_lexer": "ipython3",
   "version": "3.8.3"
  }
 },
 "nbformat": 4,
 "nbformat_minor": 4
}

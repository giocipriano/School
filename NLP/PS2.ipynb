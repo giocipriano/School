{
 "cells": [
  {
   "cell_type": "markdown",
   "metadata": {},
   "source": [
    "# Problem Set 2 CS174\n",
    "---\n",
    "The following problem set will focus on the lessons on Numpy and advanced Python functions. Answer the following guide questions by writing functions or code in cells that accomplish the requirements.\n",
    "\n",
    "1. Create a function that takes in 3 parameters (integer n, integer a, integer b), and generates an nxn numpy matrix with random values from the range a to b inclusive. **2 pts.**\n",
    "\n",
    "2. Present a count plot of the top 20 occurring words in **data/networks.txt**. Use the stopword file **data/stop.txt** to filter out the stopwords **2 pts.**\n",
    "\n",
    "3. Using **data/ateneo.txt** and **data/tl-en.txt**, convert the phrases into straight english phrases. Leave words with no translation be. **6 pts.**\n",
    "\n",
    "4. Using **data/tl-en.txt**, create a one-to-one English to Filipino translation of your favorite English song. Develop functions to handle pluralities, and multiple entry results. Discuss your code and please put at least 1-liner docs for the functions. **10 pts.**\n",
    "       \n",
    "### Bonus:\n",
    "Repeat #4 but do a Filipino to English translation of your favorite Filipno song. Same specs apply. **5 pts.**"
   ]
  },
  {
   "cell_type": "markdown",
   "metadata": {},
   "source": [
    "Deadline **Feb 20 11:59PM**. Submission link to be posted in Moodle. \n",
    "Submit the .ipynb file only with name <SURNAME>_<ID NUMBER>.ipynb. \n",
    "    \n",
    "Sample: **\"BAUTISTA_110464.ipynb\"**"
   ]
  },
  {
   "cell_type": "markdown",
   "metadata": {},
   "source": [
    "1. Function that takes 3 parameters \n"
   ]
  },
  {
   "cell_type": "code",
   "execution_count": 1,
   "metadata": {},
   "outputs": [
    {
     "name": "stdout",
     "output_type": "stream",
     "text": [
      "[[6 6 6]\n",
      " [5 4 9]\n",
      " [1 7 7]]\n"
     ]
    }
   ],
   "source": [
    "import numpy as np\n",
    "def randmatrix (n,a,b):\n",
    "    random_matrix = np.random.randint(a,b,(n,n))\n",
    "    print(random_matrix)\n",
    "randmatrix(3,1,10)"
   ]
  },
  {
   "cell_type": "markdown",
   "metadata": {},
   "source": [
    "2. Count plot of top 20 occuring words"
   ]
  },
  {
   "cell_type": "code",
   "execution_count": 21,
   "metadata": {},
   "outputs": [
    {
     "name": "stdout",
     "output_type": "stream",
     "text": [
      "top 20 occurring words in networks.txt\n",
      "the : 57\n",
      "to : 56\n",
      "of : 29\n",
      "and : 24\n",
      "is : 23\n",
      "networks : 20\n",
      "network : 17\n",
      "a : 16\n",
      "users : 16\n",
      "can : 15\n",
      "are : 14\n",
      "on : 13\n",
      "security : 13\n",
      "in : 12\n",
      "for : 11\n",
      "which : 11\n",
      "be : 11\n",
      "this : 10\n",
      "as : 10\n",
      "other : 9\n"
     ]
    },
    {
     "data": {
      "image/png": "[encoded data removed]",
      "text/plain": [
       "<Figure size 1512x720 with 1 Axes>"
      ]
     },
     "metadata": {
      "needs_background": "light"
     },
     "output_type": "display_data"
    }
   ],
   "source": [
    "import collections\n",
    "import seaborn as sns\n",
    "import pandas as pd\n",
    "import numpy as np\n",
    "import matplotlib.pyplot as plt\n",
    "\n",
    "def topOccurring(n):\n",
    "    word_count = {}\n",
    "    most = []\n",
    "    count_common = []\n",
    "    file = open(\"data/networks.txt\",\"r\")\n",
    "    read = file.read()\n",
    "    stopwords = set(line.strip() for line in open('data/stop.txt')) #use stopwords\n",
    "    \n",
    "    for word in read.lower().split(): \n",
    "        word = word.replace(\".\",\"\")\n",
    "        word = word.replace(\",\",\"\")\n",
    "        word = word.replace(\":\",\"\")\n",
    "        word = word.replace(\"\\\"\",\"\")\n",
    "        word = word.replace(\"!\",\"\")\n",
    "        if word not in stopwords: #stopwords checker\n",
    "            if word not in word_count:\n",
    "                word_count[word] = 1\n",
    "            else:\n",
    "                word_count[word] += 1\n",
    "    \n",
    "    print(\"top {} occurring words in networks.txt\".format(n))\n",
    "    count = collections.Counter(word_count) \n",
    "    for word, count in count.most_common(20): \n",
    "        most.append(word)\n",
    "        count_common.append(count)\n",
    "        print(word, \":\", count)\n",
    "        \n",
    "    df = pd.DataFrame({'Words':most, 'Count':count_common}) #present a count plot\n",
    "    ax = df.plot.bar(x='Words', y='Count', rot=0, title = \"Top {} Occurring Words in networks.txt\".format(n),colormap='jet')\n",
    "    plt.rcParams['figure.figsize'] = (21,10)\n",
    "    ax.set_xlabel(\"Words\")\n",
    "    ax.set_ylabel(\"Frequency\")\n",
    "    \n",
    "topOccurring(20) #top 20 occurring words\n"
   ]
  },
  {
   "cell_type": "code",
   "execution_count": 166,
   "metadata": {},
   "outputs": [
    {
     "name": "stdout",
     "output_type": "stream",
     "text": [
      "English Only: \n",
      "manong to only dyan sa have side\n",
      " mej hassle naman this rain\n",
      " what bro katip later g\n",
      " wait im like gonna dinner only with the fambam\n",
      " which car am i gonna take today kaya\n",
      " dont make stitch sa fishball first its not cuisine yet\n",
      " brother much po yung neon balls\n",
      " pweds ka ba later\n",
      " ugh theres no parking space pa eh im late na nga\n",
      " its like super intense really as in grabe\n",
      " ill make goodbye pa you know naman my dad is strict eh\n",
      " youre like so duration ha\n",
      " make it fast only ha\n",
      " whats wrong with being conyo ba\n"
     ]
    }
   ],
   "source": [
    "import string\n",
    "admufile = open('data/ateneo.txt', 'r')\n",
    "tlfile = open('data/tl-en.txt', 'r', encoding='utf8')\n",
    "\n",
    "tls = {} \n",
    "stc = []\n",
    "\n",
    "for line in tlfile:\n",
    "    (en, tl) = line.split()\n",
    "    tls[en] = tl\n",
    "\n",
    "with admufile as ad:    \n",
    "    for line in ad:\n",
    "        line = line.lower()\n",
    "        line = line.translate(line.maketrans(\"\",\"\", string.punctuation))\n",
    "        word = line.split(' ')\n",
    "        for w in word:import string\n",
    "admufile = open('data/ateneo.txt', 'r')\n",
    "tlfile = open('data/tl-en.txt', 'r', encoding='utf8')\n",
    "\n",
    "tls = {} \n",
    "stc = []\n",
    "\n",
    "for line in tlfile:\n",
    "    (en, tl) = line.split()\n",
    "    tls[en] = tl\n",
    "\n",
    "with admufile as ad:    \n",
    "    for line in ad:\n",
    "        line = line.lower()\n",
    "        line = line.translate(line.maketrans(\"\",\"\", string.punctuation))\n",
    "        word = line.split(' ')\n",
    "        for w in word:\n",
    "            for en, tl in tls.items():\n",
    "                if w in en:\n",
    "                    w = w.replace(en, tl)\n",
    "            stc.append(w)\n",
    "        \n",
    "tlsn = ' '. join(stc)\n",
    "print(\"English Only: \",tlsn, sep = '\\n')\n",
    "            for en, tl in tls.items():\n",
    "                if w in en:\n",
    "                    w = w.replace(en, tl)\n",
    "            stc.append(w)\n",
    "        \n",
    "tlsn = ' '. join(stc)\n",
    "print(\"English Only: \",tlsn, sep = '\\n')\n",
    "\n"
   ]
  },
  {
   "cell_type": "code",
   "execution_count": null,
   "metadata": {},
   "outputs": [],
   "source": []
  }
 ],
 "metadata": {
  "kernelspec": {
   "display_name": "Python 3",
   "language": "python",
   "name": "python3"
  },
  "language_info": {
   "codemirror_mode": {
    "name": "ipython",
    "version": 3
   },
   "file_extension": ".py",
   "mimetype": "text/x-python",
   "name": "python",
   "nbconvert_exporter": "python",
   "pygments_lexer": "ipython3",
   "version": "3.8.3"
  }
 },
 "nbformat": 4,
 "nbformat_minor": 4
}

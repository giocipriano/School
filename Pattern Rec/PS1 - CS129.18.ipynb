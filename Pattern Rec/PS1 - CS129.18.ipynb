{
 "cells": [
  {
   "cell_type": "markdown",
   "metadata": {},
   "source": [
    "# Problem Set 1 CS129.18\n",
    "\n",
    "The following problem set will revolve around hourly Philippine weather data observations from 1978 to 2018 sourced from NOAA (National Oceanic and Atmospheric Administration). \n",
    "\n",
    "The dataset `PH_Weather_v1.csv` has **11** columns. The columns are described as follows.\n",
    "\n",
    "* **datetime** maps to a YYYYMMDDSSSS string datetime format.\n",
    "* **wind_direction** represents the recorded compass direction of the wind. \n",
    "* **wind_speed** is the wind speed recorded in MPH.\n",
    "* **gust_speed** is the gust speed recorded in MPH. NAN if no recording.\n",
    "* **sea_level_pressure** is sea level pressure in millibars estimated to the nearest tenth.\n",
    "* **temperature** is the recorded temperature in celsius.\n",
    "* **altitude** is the station altimeter recording in inches. NAN if no recording.\n",
    "* **precipitation** is the station hourly precipitation report in inches. NAN if no recording.\n",
    "* **clouds** is the station observed cloud report.\n",
    "    * CLR-CLEAR \n",
    "    * SCT-SCATTERED\n",
    "    * BKN-BROKEN\n",
    "    * OVC-OVERCAST, \n",
    "    * OBS-OBSCURED\n",
    "    * POB-PARTIAL OBSCURATION \n",
    "* **visibility** is the station observed visibility in miles\n",
    "* **humidity** is the station observed relative humidity"
   ]
  },
  {
   "cell_type": "markdown",
   "metadata": {},
   "source": [
    "## Requirements\n",
    "\n",
    "\n",
    ">Atmospheric Science is a complex system that works with factors that interact with each other. We might be able use these variables to estimate the value of one of the key indicators: Temperature.\n",
    "\n",
    "Using the lessons on Linear Regression I and II, and the other resource notebooks, show the following in this Jupyter Notebook.\n",
    "\n",
    "Write your answers down as Markdown cells or comments in the code.\n",
    "\n",
    "1. What is the dimensionality or shape of the data? ( 1pt )\n",
    "\n",
    "2. What is mean temperature for the year 2017? ( 3pts )\n",
    "\n",
    "3. Solve for the beta coefficients for the columns that you can use in your dataset to predict temperature. ( 4pts )\n",
    "\n",
    "4. Show the relationship between the variable with the highest beta coefficient and temperature (Use a plot). ( 5pts )\n",
    "\n",
    "5. Solve for the Mean Squared Error of your predicted temperature against the actual temperature. ( 2pts )\n",
    "\n",
    "6. Solve for the R^2 score of the linear model used to predict temperature. ( 2pts )\n",
    "\n",
    "7. Identify if the model is a good model and why. ( 3pts )\n",
    "\n",
    "\n",
    "\n",
    "-----\n",
    "\n",
    "\n",
    "Bonus 1 : What is your name?\n",
    "\n",
    "If **you're the only one in the class** that answers Bonus 1, **only you** get **5 points**. \n",
    "\n",
    "If **everyone in the class** answers Bonus 1, **you all** get **0 points**.\n",
    "\n",
    "If **no one in the class** answers Bonus 1, **everyone** gets **2 points**.\n",
    "\n",
    "*Don't worry, your answer here will not be disclosed to the class*\n",
    "\n",
    "----\n",
    "\n",
    "**Submit this file on Moodle on the submission link I will provide. This is due September 13 12nn.**"
   ]
  },
  {
   "cell_type": "code",
   "execution_count": 5,
   "metadata": {},
   "outputs": [],
   "source": [
    "%matplotlib inline\n",
    "\n",
    "import matplotlib.pylab as plt\n",
    "import numpy as np\n",
    "import pandas as pd"
   ]
  },
  {
   "cell_type": "code",
   "execution_count": 6,
   "metadata": {},
   "outputs": [],
   "source": [
    "df = pd.read_csv(\"data/PH_Weather_v1.csv\")"
   ]
  },
  {
   "cell_type": "code",
   "execution_count": 7,
   "metadata": {},
   "outputs": [
    {
     "data": {
      "text/html": [
       "<div>\n",
       "<style scoped>\n",
       "    .dataframe tbody tr th:only-of-type {\n",
       "        vertical-align: middle;\n",
       "    }\n",
       "\n",
       "    .dataframe tbody tr th {\n",
       "        vertical-align: top;\n",
       "    }\n",
       "\n",
       "    .dataframe thead th {\n",
       "        text-align: right;\n",
       "    }\n",
       "</style>\n",
       "<table border=\"1\" class=\"dataframe\">\n",
       "  <thead>\n",
       "    <tr style=\"text-align: right;\">\n",
       "      <th></th>\n",
       "      <th>datetime</th>\n",
       "      <th>wind_direction</th>\n",
       "      <th>wind_speed</th>\n",
       "      <th>gust_speed</th>\n",
       "      <th>sea_level_pressure</th>\n",
       "      <th>temperature</th>\n",
       "      <th>altitude</th>\n",
       "      <th>precipitation</th>\n",
       "      <th>clouds</th>\n",
       "      <th>visibility</th>\n",
       "      <th>humidity</th>\n",
       "    </tr>\n",
       "  </thead>\n",
       "  <tbody>\n",
       "    <tr>\n",
       "      <th>0</th>\n",
       "      <td>197809140300</td>\n",
       "      <td>160</td>\n",
       "      <td>2</td>\n",
       "      <td>NaN</td>\n",
       "      <td>1007.7</td>\n",
       "      <td>30</td>\n",
       "      <td>NaN</td>\n",
       "      <td>NaN</td>\n",
       "      <td>BKN</td>\n",
       "      <td>15.6</td>\n",
       "      <td>0.75</td>\n",
       "    </tr>\n",
       "    <tr>\n",
       "      <th>1</th>\n",
       "      <td>197810021500</td>\n",
       "      <td>0</td>\n",
       "      <td>0</td>\n",
       "      <td>NaN</td>\n",
       "      <td>1011.3</td>\n",
       "      <td>26</td>\n",
       "      <td>NaN</td>\n",
       "      <td>NaN</td>\n",
       "      <td>OVC</td>\n",
       "      <td>6.2</td>\n",
       "      <td>0.94</td>\n",
       "    </tr>\n",
       "    <tr>\n",
       "      <th>2</th>\n",
       "      <td>197810252100</td>\n",
       "      <td>360</td>\n",
       "      <td>9</td>\n",
       "      <td>NaN</td>\n",
       "      <td>1004.1</td>\n",
       "      <td>26</td>\n",
       "      <td>NaN</td>\n",
       "      <td>NaN</td>\n",
       "      <td>BKN</td>\n",
       "      <td>6.2</td>\n",
       "      <td>0.80</td>\n",
       "    </tr>\n",
       "    <tr>\n",
       "      <th>3</th>\n",
       "      <td>197810260000</td>\n",
       "      <td>360</td>\n",
       "      <td>21</td>\n",
       "      <td>NaN</td>\n",
       "      <td>1006.3</td>\n",
       "      <td>26</td>\n",
       "      <td>NaN</td>\n",
       "      <td>NaN</td>\n",
       "      <td>OVC</td>\n",
       "      <td>6.2</td>\n",
       "      <td>0.80</td>\n",
       "    </tr>\n",
       "    <tr>\n",
       "      <th>4</th>\n",
       "      <td>197811131500</td>\n",
       "      <td>0</td>\n",
       "      <td>0</td>\n",
       "      <td>NaN</td>\n",
       "      <td>1010.1</td>\n",
       "      <td>26</td>\n",
       "      <td>NaN</td>\n",
       "      <td>NaN</td>\n",
       "      <td>BKN</td>\n",
       "      <td>11.2</td>\n",
       "      <td>0.88</td>\n",
       "    </tr>\n",
       "  </tbody>\n",
       "</table>\n",
       "</div>"
      ],
      "text/plain": [
       "       datetime  wind_direction  wind_speed  gust_speed  sea_level_pressure  \\\n",
       "0  197809140300             160           2         NaN              1007.7   \n",
       "1  197810021500               0           0         NaN              1011.3   \n",
       "2  197810252100             360           9         NaN              1004.1   \n",
       "3  197810260000             360          21         NaN              1006.3   \n",
       "4  197811131500               0           0         NaN              1010.1   \n",
       "\n",
       "   temperature  altitude  precipitation clouds  visibility  humidity  \n",
       "0           30       NaN            NaN    BKN        15.6      0.75  \n",
       "1           26       NaN            NaN    OVC         6.2      0.94  \n",
       "2           26       NaN            NaN    BKN         6.2      0.80  \n",
       "3           26       NaN            NaN    OVC         6.2      0.80  \n",
       "4           26       NaN            NaN    BKN        11.2      0.88  "
      ]
     },
     "execution_count": 7,
     "metadata": {},
     "output_type": "execute_result"
    }
   ],
   "source": [
    "df.head()"
   ]
  },
  {
   "cell_type": "code",
   "execution_count": 8,
   "metadata": {},
   "outputs": [],
   "source": [
    "# df.dropna([\"a\", \"b\", \"c\"],axis=1)"
   ]
  },
  {
   "cell_type": "markdown",
   "metadata": {},
   "source": [
    "1.Dimensionality / Shape "
   ]
  },
  {
   "cell_type": "code",
   "execution_count": 9,
   "metadata": {},
   "outputs": [
    {
     "data": {
      "text/plain": [
       "(90565, 11)"
      ]
     },
     "execution_count": 9,
     "metadata": {},
     "output_type": "execute_result"
    }
   ],
   "source": [
    "df.shape"
   ]
  },
  {
   "cell_type": "markdown",
   "metadata": {},
   "source": [
    "2.Mean of Temperature in 2017"
   ]
  },
  {
   "cell_type": "code",
   "execution_count": 10,
   "metadata": {},
   "outputs": [
    {
     "data": {
      "text/plain": [
       "27.93335635359116"
      ]
     },
     "execution_count": 10,
     "metadata": {},
     "output_type": "execute_result"
    }
   ],
   "source": [
    "yr = '2017'\n",
    "df['datetime'] = df['datetime'].astype(str)\n",
    "tempz = df[df['datetime'].str.startswith(yr)]\n",
    "pog = tempz['temperature'].mean()\n",
    "pog"
   ]
  },
  {
   "cell_type": "markdown",
   "metadata": {},
   "source": [
    "3.Solve for the beta coefficients"
   ]
  },
  {
   "cell_type": "code",
   "execution_count": 12,
   "metadata": {},
   "outputs": [
    {
     "name": "stdout",
     "output_type": "stream",
     "text": [
      "Coefficient Values: [ 1.71087930e-03  8.67328153e-02 -7.51863858e-05  1.04275731e-01\n",
      " -1.08646627e+01]\n"
     ]
    }
   ],
   "source": [
    "from sklearn.linear_model import LinearRegression\n",
    "df = df.dropna(axis='columns')\n",
    "beta = df.drop(['datetime','temperature','clouds'], axis=1)\n",
    "linear_model = LinearRegression()\n",
    "linear_model.fit(beta, df['temperature'])\n",
    "print(f\"Coefficient Values: {linear_model.coef_}\")"
   ]
  },
  {
   "cell_type": "markdown",
   "metadata": {},
   "source": [
    "4.Relationship between highest beta coefficient and temperature"
   ]
  },
  {
   "cell_type": "code",
   "execution_count": 13,
   "metadata": {},
   "outputs": [
    {
     "data": {
      "text/html": [
       "<div>\n",
       "<style scoped>\n",
       "    .dataframe tbody tr th:only-of-type {\n",
       "        vertical-align: middle;\n",
       "    }\n",
       "\n",
       "    .dataframe tbody tr th {\n",
       "        vertical-align: top;\n",
       "    }\n",
       "\n",
       "    .dataframe thead th {\n",
       "        text-align: right;\n",
       "    }\n",
       "</style>\n",
       "<table border=\"1\" class=\"dataframe\">\n",
       "  <thead>\n",
       "    <tr style=\"text-align: right;\">\n",
       "      <th></th>\n",
       "      <th>0</th>\n",
       "      <th>1</th>\n",
       "    </tr>\n",
       "  </thead>\n",
       "  <tbody>\n",
       "    <tr>\n",
       "      <th>0</th>\n",
       "      <td>wind_direction</td>\n",
       "      <td>0.001711</td>\n",
       "    </tr>\n",
       "    <tr>\n",
       "      <th>1</th>\n",
       "      <td>wind_speed</td>\n",
       "      <td>0.086733</td>\n",
       "    </tr>\n",
       "    <tr>\n",
       "      <th>2</th>\n",
       "      <td>sea_level_pressure</td>\n",
       "      <td>-0.000075</td>\n",
       "    </tr>\n",
       "    <tr>\n",
       "      <th>3</th>\n",
       "      <td>visibility</td>\n",
       "      <td>0.104276</td>\n",
       "    </tr>\n",
       "    <tr>\n",
       "      <th>4</th>\n",
       "      <td>humidity</td>\n",
       "      <td>-10.864663</td>\n",
       "    </tr>\n",
       "  </tbody>\n",
       "</table>\n",
       "</div>"
      ],
      "text/plain": [
       "                    0          1\n",
       "0      wind_direction   0.001711\n",
       "1          wind_speed   0.086733\n",
       "2  sea_level_pressure  -0.000075\n",
       "3          visibility   0.104276\n",
       "4            humidity -10.864663"
      ]
     },
     "execution_count": 13,
     "metadata": {},
     "output_type": "execute_result"
    },
    {
     "data": {
      "image/png": "[encoded data removed]",
      "text/plain": [
       "<Figure size 864x576 with 1 Axes>"
      ]
     },
     "metadata": {},
     "output_type": "display_data"
    }
   ],
   "source": [
    "plt.style.use('fivethirtyeight')\n",
    "plt.figure(figsize=(12,8))\n",
    "plt.title(\"Relationship Between Highest Beta Coef and Temperature\")\n",
    "plt.xlabel(\"Temperature\")\n",
    "plt.ylabel(\"Visibility\")\n",
    "plt.scatter(df['visibility'], df['temperature'])\n",
    "pd.DataFrame(list(zip(beta.columns, linear_model.coef_)))"
   ]
  },
  {
   "cell_type": "markdown",
   "metadata": {},
   "source": [
    "5.Mean Squared Error of Predicted Temp vs Actual Temp"
   ]
  },
  {
   "cell_type": "code",
   "execution_count": 14,
   "metadata": {},
   "outputs": [
    {
     "data": {
      "text/html": [
       "<div>\n",
       "<style scoped>\n",
       "    .dataframe tbody tr th:only-of-type {\n",
       "        vertical-align: middle;\n",
       "    }\n",
       "\n",
       "    .dataframe tbody tr th {\n",
       "        vertical-align: top;\n",
       "    }\n",
       "\n",
       "    .dataframe thead th {\n",
       "        text-align: right;\n",
       "    }\n",
       "</style>\n",
       "<table border=\"1\" class=\"dataframe\">\n",
       "  <thead>\n",
       "    <tr style=\"text-align: right;\">\n",
       "      <th></th>\n",
       "      <th>datetime</th>\n",
       "      <th>wind_direction</th>\n",
       "      <th>wind_speed</th>\n",
       "      <th>sea_level_pressure</th>\n",
       "      <th>temperature</th>\n",
       "      <th>clouds</th>\n",
       "      <th>visibility</th>\n",
       "      <th>humidity</th>\n",
       "      <th>Predictions</th>\n",
       "    </tr>\n",
       "  </thead>\n",
       "  <tbody>\n",
       "    <tr>\n",
       "      <th>0</th>\n",
       "      <td>197809140300</td>\n",
       "      <td>160</td>\n",
       "      <td>2</td>\n",
       "      <td>1007.7</td>\n",
       "      <td>30</td>\n",
       "      <td>BKN</td>\n",
       "      <td>15.6</td>\n",
       "      <td>0.75</td>\n",
       "      <td>28.612678</td>\n",
       "    </tr>\n",
       "    <tr>\n",
       "      <th>1</th>\n",
       "      <td>197810021500</td>\n",
       "      <td>0</td>\n",
       "      <td>0</td>\n",
       "      <td>1011.3</td>\n",
       "      <td>26</td>\n",
       "      <td>OVC</td>\n",
       "      <td>6.2</td>\n",
       "      <td>0.94</td>\n",
       "      <td>25.120723</td>\n",
       "    </tr>\n",
       "    <tr>\n",
       "      <th>2</th>\n",
       "      <td>197810252100</td>\n",
       "      <td>360</td>\n",
       "      <td>9</td>\n",
       "      <td>1004.1</td>\n",
       "      <td>26</td>\n",
       "      <td>BKN</td>\n",
       "      <td>6.2</td>\n",
       "      <td>0.80</td>\n",
       "      <td>28.038829</td>\n",
       "    </tr>\n",
       "    <tr>\n",
       "      <th>3</th>\n",
       "      <td>197810260000</td>\n",
       "      <td>360</td>\n",
       "      <td>21</td>\n",
       "      <td>1006.3</td>\n",
       "      <td>26</td>\n",
       "      <td>OVC</td>\n",
       "      <td>6.2</td>\n",
       "      <td>0.80</td>\n",
       "      <td>29.079458</td>\n",
       "    </tr>\n",
       "    <tr>\n",
       "      <th>4</th>\n",
       "      <td>197811131500</td>\n",
       "      <td>0</td>\n",
       "      <td>0</td>\n",
       "      <td>1010.1</td>\n",
       "      <td>26</td>\n",
       "      <td>BKN</td>\n",
       "      <td>11.2</td>\n",
       "      <td>0.88</td>\n",
       "      <td>26.294072</td>\n",
       "    </tr>\n",
       "  </tbody>\n",
       "</table>\n",
       "</div>"
      ],
      "text/plain": [
       "       datetime  wind_direction  wind_speed  sea_level_pressure  temperature  \\\n",
       "0  197809140300             160           2              1007.7           30   \n",
       "1  197810021500               0           0              1011.3           26   \n",
       "2  197810252100             360           9              1004.1           26   \n",
       "3  197810260000             360          21              1006.3           26   \n",
       "4  197811131500               0           0              1010.1           26   \n",
       "\n",
       "  clouds  visibility  humidity  Predictions  \n",
       "0    BKN        15.6      0.75    28.612678  \n",
       "1    OVC         6.2      0.94    25.120723  \n",
       "2    BKN         6.2      0.80    28.038829  \n",
       "3    OVC         6.2      0.80    29.079458  \n",
       "4    BKN        11.2      0.88    26.294072  "
      ]
     },
     "execution_count": 14,
     "metadata": {},
     "output_type": "execute_result"
    }
   ],
   "source": [
    "predict = linear_model.predict(beta)\n",
    "df[\"Predictions\"] = predict\n",
    "df.head()"
   ]
  },
  {
   "cell_type": "code",
   "execution_count": 19,
   "metadata": {},
   "outputs": [
    {
     "data": {
      "text/plain": [
       "Text(0.5, 1.0, 'Predicted Temperature vs Observed Temperature')"
      ]
     },
     "execution_count": 19,
     "metadata": {},
     "output_type": "execute_result"
    },
    {
     "data": {
      "image/png": "[encoded data removed]",
      "text/plain": [
       "<Figure size 720x576 with 1 Axes>"
      ]
     },
     "metadata": {},
     "output_type": "display_data"
    }
   ],
   "source": [
    "plt.figure(figsize=(10,8))\n",
    "plt.scatter(df['temperature'], linear_model.predict(beta))\n",
    "plt.plot([10,50], [10,50], '--go')\n",
    "plt.xlabel('Observed Temperature')\n",
    "plt.ylabel('Predicted Temperature')\n",
    "plt.title('Predicted Temperature vs Observed Temperature')"
   ]
  },
  {
   "cell_type": "code",
   "execution_count": 20,
   "metadata": {},
   "outputs": [
    {
     "data": {
      "text/plain": [
       "2.769320536176345"
      ]
     },
     "execution_count": 20,
     "metadata": {},
     "output_type": "execute_result"
    }
   ],
   "source": [
    "mean_square_error = np.mean((df['temperature'] - linear_model.predict(beta)) ** 2)\n",
    "mean_square_error"
   ]
  },
  {
   "cell_type": "markdown",
   "metadata": {},
   "source": [
    "6.R Squared Score of the Linear Model"
   ]
  },
  {
   "cell_type": "code",
   "execution_count": 22,
   "metadata": {},
   "outputs": [
    {
     "data": {
      "text/plain": [
       "0.47251833300397583"
      ]
     },
     "execution_count": 22,
     "metadata": {},
     "output_type": "execute_result"
    }
   ],
   "source": [
    "linear_model.score(beta, df['temperature']) "
   ]
  },
  {
   "cell_type": "markdown",
   "metadata": {},
   "source": [
    "7.Is the model good? Why or why not? "
   ]
  },
  {
   "cell_type": "markdown",
   "metadata": {},
   "source": [
    "While the overall shape of the plots is kind of the same, with the plots following the angle of the line, most of the plots are situated mostly in the center, around 20-40 which means that while the deviation of the temperatures are not that much, the devation between the predicted temperature and the actual temperature is quite large. We can also see that the score of the linear model for this dataset is only 47.2% percent, which is very low, meaning that the model is subpar. "
   ]
  }
 ],
 "metadata": {
  "kernelspec": {
   "display_name": "Python 3",
   "language": "python",
   "name": "python3"
  },
  "language_info": {
   "codemirror_mode": {
    "name": "ipython",
    "version": 3
   },
   "file_extension": ".py",
   "mimetype": "text/x-python",
   "name": "python",
   "nbconvert_exporter": "python",
   "pygments_lexer": "ipython3",
   "version": "3.8.3"
  }
 },
 "nbformat": 4,
 "nbformat_minor": 4
}
